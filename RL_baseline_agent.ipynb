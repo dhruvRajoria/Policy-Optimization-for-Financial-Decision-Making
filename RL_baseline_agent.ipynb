{
 "cells": [
  {
   "cell_type": "code",
   "execution_count": null,
   "id": "ad003b75",
   "metadata": {},
   "outputs": [],
   "source": [
    "# --- Common imports and paths (add this as Cell 1 in every notebook) ---\n",
    "import os\n",
    "import pandas as pd\n",
    "import numpy as np\n",
    "import torch\n",
    "import joblib\n",
    "\n",
    "# Paths (same as your main project)\n",
    "PROCESSED_CSV = \"./data/processed/processed_sample_200k.csv\"\n",
    "MODEL_PTH = \"./models/torch_mlp.pth\"\n",
    "PREPROCESSOR_JOBLIB = \"./models/preprocessor.joblib\"\n",
    "METRICS_JOBLIB = \"./models/supervised_metrics.joblib\"\n",
    "DISAGREE_CSV = \"./analysis/policy_disagreements_sample.csv\"\n"
   ]
  },
  {
   "cell_type": "code",
   "execution_count": 12,
   "id": "47a0483e",
   "metadata": {},
   "outputs": [
    {
     "name": "stdout",
     "output_type": "stream",
     "text": [
      "Skipping RL training (d3rlpy not available or failed). Error: No module named 'd3rlpy'\n"
     ]
    }
   ],
   "source": [
    "# 5 - Optional offline RL with d3rlpy (CQL) - heavy; skip if d3rlpy not installed\n",
    "try:\n",
    "    from d3rlpy.algos import CQL\n",
    "    from d3rlpy.dataset import MDPDataset\n",
    "    print(\"d3rlpy available -> training CQL (this can be long).\")\n",
    "    # Build RL dataset: states = features, actions = 1 (approved) for every row in accepted dataset,\n",
    "    # rewards computed by loan_amnt_orig & int_rate_orig if present, terminal=True for single-step\n",
    "    proc = pd.read_csv(PROCESSED_CSV)\n",
    "    feature_cols = [c for c in proc.columns if c not in ('target','loan_amnt_orig','int_rate_orig')]\n",
    "    states = proc[feature_cols].values.astype(np.float32)\n",
    "    actions = np.ones((len(proc),1), dtype=np.int32)  # historical = approve\n",
    "    # compute reward: if paid (target==0): +loan_amnt * int_rate ; if default: -loan_amnt\n",
    "    if 'loan_amnt_orig' in proc.columns and 'int_rate_orig' in proc.columns:\n",
    "        loan_amnt = pd.to_numeric(proc['loan_amnt_orig'], errors='coerce').fillna(0).values.astype(np.float32)\n",
    "        int_rate = pd.to_numeric(proc['int_rate_orig'], errors='coerce').fillna(0).values.astype(np.float32)/100.0\n",
    "        rewards = np.where(proc['target'].values==0, loan_amnt * int_rate, -loan_amnt).astype(np.float32)\n",
    "    else:\n",
    "        rewards = np.where(proc['target'].values==0, 1.0, -1.0).astype(np.float32)\n",
    "\n",
    "    terminals = np.ones(len(states), dtype=bool)\n",
    "    next_states = states.copy()\n",
    "\n",
    "    dataset = MDPDataset(observations=states, actions=actions, rewards=rewards, terminals=terminals, next_observations=next_states)\n",
    "\n",
    "    # train/test split using indices (small train for prototype)\n",
    "    n = len(states)\n",
    "    idx = np.arange(n)\n",
    "    train_idx = rng.choice(idx, size=int(0.9*n), replace=False)\n",
    "    valid_idx = np.setdiff1d(idx, train_idx)\n",
    "    train_dataset = dataset[train_idx]\n",
    "    valid_dataset = dataset[valid_idx]\n",
    "\n",
    "    cql = CQL(batch_size=256, actor_learning_rate=1e-4, critic_learning_rate=1e-4)\n",
    "    cql.fit(train_dataset, n_steps=2000, eval_episodes=0, verbose=1)  # small n_steps for prototype\n",
    "    cql.save_model(\"./models/cql_model\")\n",
    "    print(\"Saved CQL model\")\n",
    "except Exception as e:\n",
    "    print(\"Skipping RL training (d3rlpy not available or failed). Error:\", e)\n"
   ]
  },
  {
   "cell_type": "code",
   "execution_count": 21,
   "id": "d718b9a7",
   "metadata": {},
   "outputs": [
    {
     "name": "stdout",
     "output_type": "stream",
     "text": [
      "Best threshold by F1 re-evaluated: 0.19\n",
      "\n",
      "Policy average reward per decision (mean) and total reward over sample (sum):\n",
      "Supervised (best-F1 t=0.19): mean=-1100.8079  sum=-220161584.99\n",
      "Supervised (t=0.5): mean=-6.7567  sum=-1351337.70\n",
      "Supervised (t=0.3): mean=-457.4891  sum=-91497818.58\n",
      "Deny all: mean=0.0000  sum=0.00\n",
      "Approve all: mean=-1291.7053  sum=-258341065.94\n"
     ]
    }
   ],
   "source": [
    "# 4) Estimate financial return (policy value) for different policies\n",
    "import numpy as np\n",
    "import pandas as pd\n",
    "\n",
    "# Load predictions\n",
    "proc = pd.read_csv(\"./analysis/supervised_predictions.csv\")\n",
    "\n",
    "# Make sure required columns exist\n",
    "has_money = ('loan_amnt_orig' in proc.columns) and ('int_rate_orig' in proc.columns)\n",
    "\n",
    "if has_money:\n",
    "    # Convert to numeric and clean\n",
    "    loan_amnt = pd.to_numeric(proc['loan_amnt_orig'], errors='coerce').fillna(0).values\n",
    "    int_rate = pd.to_numeric(proc['int_rate_orig'], errors='coerce').fillna(0).values / 100.0\n",
    "else:\n",
    "    # Fallback unit rewards if originals missing\n",
    "    loan_amnt = np.ones(len(proc))\n",
    "    int_rate = np.ones(len(proc))\n",
    "\n",
    "# Reward function\n",
    "def compute_policy_value(actions):\n",
    "    \"\"\"\n",
    "    actions: 1 = approve, 0 = deny\n",
    "    approve & paid (target==0)  -> +loan_amnt * int_rate\n",
    "    approve & default (target==1)-> -loan_amnt\n",
    "    deny -> 0\n",
    "    \"\"\"\n",
    "    rewards = np.zeros(len(actions), dtype=float)\n",
    "    approve_idx = (actions == 1)\n",
    "    paid_idx = (proc['target'].values == 0)\n",
    "    default_idx = (proc['target'].values == 1)\n",
    "\n",
    "    idx_paid = approve_idx & paid_idx\n",
    "    idx_def = approve_idx & default_idx\n",
    "\n",
    "    rewards[idx_paid] = loan_amnt[idx_paid] * int_rate[idx_paid]\n",
    "    rewards[idx_def] = -loan_amnt[idx_def]\n",
    "\n",
    "    return rewards.mean(), rewards.sum()\n",
    "\n",
    "# Load predictions and best threshold from previous cell\n",
    "probs = proc['pred_prob'].values\n",
    "y = proc['target'].values\n",
    "\n",
    "# Get best threshold (already found in previous step)\n",
    "# If you re-run notebook separately, compute best_t again\n",
    "thresholds = np.linspace(0.0, 1.0, 101)\n",
    "from sklearn.metrics import f1_score\n",
    "f1s = [f1_score(y, (probs >= t).astype(int), zero_division=0) for t in thresholds]\n",
    "best_t = thresholds[int(np.argmax(f1s))]\n",
    "print(f\"Best threshold by F1 re-evaluated: {best_t:.2f}\")\n",
    "\n",
    "# Define all policy actions\n",
    "best_actions = (probs >= best_t).astype(int)\n",
    "actions_05 = (probs >= 0.5).astype(int)\n",
    "actions_03 = (probs >= 0.3).astype(int)\n",
    "actions_deny = np.zeros(len(proc), dtype=int)\n",
    "actions_approve = np.ones(len(proc), dtype=int)\n",
    "\n",
    "# Compute average and total reward for each\n",
    "best_mean, best_sum = compute_policy_value(best_actions)\n",
    "mean_05, sum_05 = compute_policy_value(actions_05)\n",
    "mean_03, sum_03 = compute_policy_value(actions_03)\n",
    "mean_deny, sum_deny = compute_policy_value(actions_deny)\n",
    "mean_approve, sum_approve = compute_policy_value(actions_approve)\n",
    "\n",
    "# Ensure all are floats (avoid numpy formatting errors)\n",
    "best_mean, best_sum = float(best_mean), float(best_sum)\n",
    "mean_05, sum_05 = float(mean_05), float(sum_05)\n",
    "mean_03, sum_03 = float(mean_03), float(sum_03)\n",
    "mean_deny, sum_deny = float(mean_deny), float(sum_deny)\n",
    "mean_approve, sum_approve = float(mean_approve), float(sum_approve)\n",
    "\n",
    "# Print clean results\n",
    "print(\"\\nPolicy average reward per decision (mean) and total reward over sample (sum):\")\n",
    "print(f\"Supervised (best-F1 t={best_t:.2f}): mean={best_mean:.4f}  sum={best_sum:.2f}\")\n",
    "print(f\"Supervised (t=0.5): mean={mean_05:.4f}  sum={sum_05:.2f}\")\n",
    "print(f\"Supervised (t=0.3): mean={mean_03:.4f}  sum={sum_03:.2f}\")\n",
    "print(f\"Deny all: mean={mean_deny:.4f}  sum={sum_deny:.2f}\")\n",
    "print(f\"Approve all: mean={mean_approve:.4f}  sum={sum_approve:.2f}\")\n"
   ]
  },
  {
   "cell_type": "code",
   "execution_count": 22,
   "id": "113d704e",
   "metadata": {},
   "outputs": [
    {
     "name": "stdout",
     "output_type": "stream",
     "text": [
      "Disagreements count: 56413\n",
      "Saved sample disagreements to ./analysis/disagreements_sample.csv\n"
     ]
    }
   ],
   "source": [
    "# Save policies and disagreement examples\n",
    "proc['action_bestF1'] = best_actions\n",
    "proc['action_05'] = actions_05\n",
    "proc['action_03'] = actions_03\n",
    "\n",
    "# If you trained RL or created a baseline RL policy, load/compute rl_actions here (example uses t=0.3 baseline)\n",
    "rl_actions = actions_03  # replace with your RL policy if available\n",
    "\n",
    "# disagreements between supervised best-F1 policy and RL-baseline\n",
    "dis_idx = np.where(proc['action_bestF1'].values != rl_actions)[0]\n",
    "print(\"Disagreements count:\", len(dis_idx))\n",
    "proc.iloc[dis_idx[:200]].to_csv(\"./analysis/disagreements_sample.csv\", index=False)\n",
    "print(\"Saved sample disagreements to ./analysis/disagreements_sample.csv\")\n"
   ]
  }
 ],
 "metadata": {
  "kernelspec": {
   "display_name": "Kaggle Env (GPU)",
   "language": "python",
   "name": "kaggle_env"
  },
  "language_info": {
   "codemirror_mode": {
    "name": "ipython",
    "version": 3
   },
   "file_extension": ".py",
   "mimetype": "text/x-python",
   "name": "python",
   "nbconvert_exporter": "python",
   "pygments_lexer": "ipython3",
   "version": "3.10.11"
  }
 },
 "nbformat": 4,
 "nbformat_minor": 5
}
